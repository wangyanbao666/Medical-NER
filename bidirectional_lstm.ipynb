{
 "cells": [
  {
   "cell_type": "code",
   "execution_count": null,
   "metadata": {},
   "outputs": [],
   "source": [
    "from transformers import AutoTokenizer, BertModel\n",
    "import torch\n",
    "import torch.nn as nn\n",
    "from torchcrf import CRF\n",
    "import torch.autograd as autograd\n",
    "import torch.optim as optim\n",
    "\n",
    "# Initialize the tokenizer for embeddings\n",
    "bert_model = BertModel.from_pretrained('bert-base-uncased')\n"
   ]
  },
  {
   "cell_type": "code",
   "execution_count": null,
   "metadata": {},
   "outputs": [],
   "source": [
    "# construct the model\n",
    "\n",
    "class BiLSTM_CRF(nn.Module):\n",
    "    def __init__(self, embedding_dim, tag_to_ix, hidden_dim, num_layers=1, batch_first=True, dropout=0.1):\n",
    "        super(BiLSTMCrf, self).__init__()\n",
    "        bert_model = 'bert-base-uncased'\n",
    "        self.embedding_dim = embedding_dim\n",
    "        self.hidden_dim = hidden_dim\n",
    "        self.tag_to_ix = tag_to_ix\n",
    "        self.target_size = len(tag_to_ix)\n",
    "\n",
    "        self.bert_embeds = BertModel.from_pretrained(bert_model)\n",
    "        self.lstm = nn.LSTM(embedding_dim, self.hidden_dim//2, num_layers=1, batch_first=batch_first, bidirectional=True)\n",
    "        self.dropout = nn.Dropout(dropout)\n",
    "        self.hidden2tag = nn.Linear(hidden_dim, self.target_size)\n",
    "        self.crf = CRF(self.target_size, batch_first=True)\n",
    "\n",
    "    def forward(self, input_ids, labels=None):\n",
    "        embeds = self.bert(input_ids)[0]\n",
    "        sequence_output = self.dropout(embeds)\n",
    "        # h0 = torch.zeros(self.num_layers * 2, x.size(0), self.hidden_size) # 2 for bidirectional\n",
    "        # c0 = torch.zeros(self.num_layers * 2, x.size(0), self.hidden_size)\n",
    "        \n",
    "        # Forward propagate LSTM\n",
    "        lstm_out, (hn, cn) = self.lstm(sequence_output, None)\n",
    "        lstm_feats = self.hidden2tag(lstm_out)\n",
    "        \n",
    "        if labels is not None:\n",
    "            loss = -self.crf(lstm_feats, labels, reduction='mean')\n",
    "            return loss\n",
    "        else:\n",
    "            predictions = self.crf.decode(lstm_feats)\n",
    "            return predictions"
   ]
  },
  {
   "cell_type": "code",
   "execution_count": null,
   "metadata": {},
   "outputs": [],
   "source": [
    "tag_to_ix = {}\n",
    "embedding_size = 512\n",
    "hidden_size = 768\n",
    "epoch_size = 300\n",
    "model = BiLSTM_CRF(embedding_size, tag_to_ix, hidden_size)\n",
    "optimizer = optim.SGD(model.parameters(), lr=0.01, weight_decay=1e-4)\n",
    "\n",
    "for epoch in range(epoch_size):\n",
    "    for sentence, tags in training_data:\n",
    "        # Step 1. Remember that Pytorch accumulates gradients.\n",
    "        # We need to clear them out before each instance\n",
    "        model.zero_grad()\n",
    "\n",
    "        # Step 2. Get our inputs ready for the network, that is,\n",
    "        # turn them into Tensors of word indices.\n",
    "        sentence_in = prepare_sequence(sentence, word_to_ix)\n",
    "        targets = torch.tensor([tag_to_ix[t] for t in tags], dtype=torch.long)\n",
    "\n",
    "        # Step 3. Run our forward pass.\n",
    "        loss = model.neg_log_likelihood(sentence_in, targets)\n",
    "\n",
    "        # Step 4. Compute the loss, gradients, and update the parameters by\n",
    "        # calling optimizer.step()\n",
    "        loss.backward()\n",
    "        optimizer.step()\n",
    "\n"
   ]
  }
 ],
 "metadata": {
  "kernelspec": {
   "display_name": "nlp",
   "language": "python",
   "name": "python3"
  },
  "language_info": {
   "name": "python",
   "version": "3.10.13"
  }
 },
 "nbformat": 4,
 "nbformat_minor": 2
}
